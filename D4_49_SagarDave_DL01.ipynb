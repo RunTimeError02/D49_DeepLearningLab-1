{
  "nbformat": 4,
  "nbformat_minor": 0,
  "metadata": {
    "colab": {
      "provenance": []
    },
    "kernelspec": {
      "name": "python3",
      "display_name": "Python 3"
    },
    "language_info": {
      "name": "python"
    }
  },
  "cells": [
    {
      "cell_type": "markdown",
      "source": [
        "**Name:** Sagar Rajendra Dave <br>\n",
        "**Roll Number:** D4_49 <br>\n",
        "**Practical Number:** 01<br>\n",
        "**Date:** 9 Jan 2024 <br>\n"
      ],
      "metadata": {
        "id": "Gvd469l8keXq"
      }
    },
    {
      "cell_type": "code",
      "source": [
        "import pandas as pd\n",
        "from sklearn.metrics import accuracy_score\n",
        "from sklearn.linear_model import Perceptron\n",
        "from sklearn.model_selection import train_test_split\n"
      ],
      "metadata": {
        "id": "Y7piv8BamEUe"
      },
      "execution_count": 2,
      "outputs": []
    },
    {
      "cell_type": "code",
      "source": [
        "x1_input=[0,0,1,1]\n",
        "x2_input=[0,1,0,1]\n",
        "w1_weight =[1,1,1,1]\n",
        "w2_weight=[1,1,1,1]\n",
        "threshold = 3\n",
        "bias=1"
      ],
      "metadata": {
        "id": "Jvv8AU5VmEZ_"
      },
      "execution_count": 3,
      "outputs": []
    },
    {
      "cell_type": "code",
      "source": [
        "def step(weighted_sum):\n",
        "  if weighted_sum >= threshold:\n",
        "    return 1\n",
        "  else:\n",
        "    return 0"
      ],
      "metadata": {
        "id": "AfmtpzCjmEcs"
      },
      "execution_count": 4,
      "outputs": []
    },
    {
      "cell_type": "code",
      "source": [
        "def perceptron():\n",
        "  weighted_sum=0\n",
        "  for x1,x2,w1,w2 in zip(x1_input,x2_input, w1_weight,w2_weight):\n",
        "    weighted_sum+=(x1*w1)+(x2*w2)+bias\n",
        "    print(weighted_sum)\n",
        "    temp=weighted_sum\n",
        "    weighted_sum=0\n",
        "    print(\"output:\",step(temp))\n",
        "    temp=0\n"
      ],
      "metadata": {
        "id": "RjgN8tDgmEfL"
      },
      "execution_count": 5,
      "outputs": []
    },
    {
      "cell_type": "code",
      "source": [
        "##AND GATE VERIFICATION\n",
        "perceptron()"
      ],
      "metadata": {
        "colab": {
          "base_uri": "https://localhost:8080/"
        },
        "id": "0mcbZVhCmEhq",
        "outputId": "3d1f0275-473a-4cf7-9c7d-59bd2e64db85"
      },
      "execution_count": 6,
      "outputs": [
        {
          "output_type": "stream",
          "name": "stdout",
          "text": [
            "1\n",
            "output: 0\n",
            "2\n",
            "output: 0\n",
            "2\n",
            "output: 0\n",
            "3\n",
            "output: 1\n"
          ]
        }
      ]
    },
    {
      "cell_type": "code",
      "source": [
        "##OR GATE VERIFICATION\n",
        "threshold = 2\n",
        "perceptron()"
      ],
      "metadata": {
        "colab": {
          "base_uri": "https://localhost:8080/"
        },
        "id": "TRvFaFQKmEkO",
        "outputId": "f57b23cf-c709-400a-83a2-1c0a09a595eb"
      },
      "execution_count": 7,
      "outputs": [
        {
          "output_type": "stream",
          "name": "stdout",
          "text": [
            "1\n",
            "output: 0\n",
            "2\n",
            "output: 1\n",
            "2\n",
            "output: 1\n",
            "3\n",
            "output: 1\n"
          ]
        }
      ]
    },
    {
      "cell_type": "markdown",
      "source": [
        "1A. Single perceptron to create logic gates (NOR, NAND)"
      ],
      "metadata": {
        "id": "DFcdZ2Kjnqbi"
      }
    },
    {
      "cell_type": "code",
      "source": [
        "## Implementation of NAND and NOR Gate\n",
        "def step_function(x):\n",
        "    return 1 if x >= 0 else 0\n",
        "\n",
        "def nor_gate(x1, x2):\n",
        "    w1, w2, b = -1, -1, 0.5\n",
        "    output = w1 * x1 + w2 * x2 + b\n",
        "    return step_function(output)\n",
        "\n",
        "def nand_gate(x1, x2):\n",
        "    w1, w2, b = -1, -1, 1.5\n",
        "    output = w1 * x1 + w2 * x2 + b\n",
        "    return step_function(output)\n",
        "\n",
        "print(\"NOR Gate:\")\n",
        "print(\"x1\\tx2\\tOutput\")\n",
        "for x1 in range(2):\n",
        "    for x2 in range(2):\n",
        "        output = nor_gate(x1, x2)\n",
        "        print(f\"{x1}\\t{x2}\\t{output}\")\n",
        "\n",
        "print(\"\\nNAND Gate:\")\n",
        "print(\"x1\\tx2\\tOutput\")\n",
        "for x1 in range(2):\n",
        "    for x2 in range(2):\n",
        "        output = nand_gate(x1, x2)\n",
        "        print(f\"{x1}\\t{x2}\\t{output}\")\n"
      ],
      "metadata": {
        "colab": {
          "base_uri": "https://localhost:8080/"
        },
        "id": "pJWv_gH3mEmr",
        "outputId": "7f7cd9a4-cce3-4863-c1ef-246ec7a2feed"
      },
      "execution_count": 8,
      "outputs": [
        {
          "output_type": "stream",
          "name": "stdout",
          "text": [
            "NOR Gate:\n",
            "x1\tx2\tOutput\n",
            "0\t0\t1\n",
            "0\t1\t0\n",
            "1\t0\t0\n",
            "1\t1\t0\n",
            "\n",
            "NAND Gate:\n",
            "x1\tx2\tOutput\n",
            "0\t0\t1\n",
            "0\t1\t1\n",
            "1\t0\t1\n",
            "1\t1\t0\n"
          ]
        }
      ]
    },
    {
      "cell_type": "markdown",
      "source": [
        "1B. Implement Perceptron learning algorithm for classification of following points {P0(-1,-1,-1) , P1(-\n",
        "1,-1,1) , P2(-1,1,-1), P3(-1,1,1) ,P4(1,-1,-1) , P5(1,-1,1) , P6(1,1,-1), P7(1,1,1)} in to two classes:\n",
        "C1={P7 (1,1,1)}\n",
        "C2={ P0(-1,-1,-1), P1(-1,-1,1) , P2(-1,1,-1) , P3(-1,1,1) ,P4(1,-1,-1), P5(1,-1,1) , P6(1,1,-1) }"
      ],
      "metadata": {
        "id": "81vWxikZnzdJ"
      }
    },
    {
      "cell_type": "code",
      "source": [
        "import numpy as np\n",
        "\n",
        "points = np.array([[-1, -1, -1], [-1, -1, 1], [-1, 1, -1], [-1, 1, 1],[1, -1, -1], [1, -1, 1], [1, 1, -1], [1, 1, 1]])\n",
        "\n",
        "class_labels = np.array([0, 0, 0, 0, 0, 0, 0, 1])\n",
        "\n",
        "weights = np.array([1, 1, 1])\n",
        "bias = 1\n",
        "learning_rate = 1\n",
        "\n",
        "def perceptron_learning(input_points, labels, weights, bias, learning_rate, threshold=0):\n",
        "    misclassified = True\n",
        "    iteration = 0\n",
        "\n",
        "    while misclassified:\n",
        "        misclassified = False\n",
        "\n",
        "        for i in range(len(input_points)):\n",
        "            data_point = input_points[i]\n",
        "            label = labels[i]\n",
        "\n",
        "\n",
        "            weighted_sum = np.dot(weights, data_point) + bias\n",
        "\n",
        "\n",
        "            predicted_label = 1 if weighted_sum > threshold else 0\n",
        "\n",
        "\n",
        "            if predicted_label != label:\n",
        "                misclassified = True\n",
        "                weights += learning_rate * (label - predicted_label) * data_point\n",
        "                bias += learning_rate * (label - predicted_label)\n",
        "\n",
        "        iteration += 1\n",
        "\n",
        "    print(f\"Perceptron converged in {iteration} iterations.\")\n",
        "    return weights, bias\n",
        "\n",
        "\n",
        "trained_weights, trained_bias = perceptron_learning(points, class_labels, weights, bias, learning_rate)\n",
        "\n",
        "\n",
        "def classify_point(point, weights, bias, threshold=0):\n",
        "    weighted_sum = np.dot(weights, point) + bias\n",
        "    predicted_label = 1 if weighted_sum > threshold else 0\n",
        "    return predicted_label\n",
        "\n",
        "\n",
        "test_points = np.array([[1, 1, 1], [-1, -1, -1]])\n",
        "\n",
        "\n",
        "for point in test_points:\n",
        "    predicted_label = classify_point(point, trained_weights, trained_bias)\n",
        "    print(f\"Point {point} belongs to Class {predicted_label}\")"
      ],
      "metadata": {
        "colab": {
          "base_uri": "https://localhost:8080/"
        },
        "id": "2zACW5DvmEpE",
        "outputId": "80c0e1ef-12f3-46c0-b1a3-0ea0cb266d29"
      },
      "execution_count": 9,
      "outputs": [
        {
          "output_type": "stream",
          "name": "stdout",
          "text": [
            "Perceptron converged in 2 iterations.\n",
            "Point [1 1 1] belongs to Class 1\n",
            "Point [-1 -1 -1] belongs to Class 0\n"
          ]
        }
      ]
    },
    {
      "cell_type": "markdown",
      "source": [
        "1C.Write a python program to find the number of linearly separable problems out of total binary\n",
        "classification problems on {P0(-1,-1,-1), P1(-1,-1,1) , P2(-1,1,-1) , P3(-1,1,1) ,P4(1,-1,-1), P5(1,-1,1) ,\n",
        "P6(1,1,-1) , P7(1,1,1) }."
      ],
      "metadata": {
        "id": "HJZ0ou5hn2HX"
      }
    },
    {
      "cell_type": "code",
      "source": [
        "import numpy as np\n",
        "\n",
        "def is_linearly_separable(class1, class2):\n",
        "    data = np.array([[-1, -1, -1], [-1, -1, 1], [-1, 1, -1], [-1, 1, 1], [1, -1, -1], [1, -1, 1], [1, 1, -1], [1, 1, 1]])\n",
        "    labels = np.array([-1, -1, -1, -1, 1, 1, 1, 1])\n",
        "\n",
        "    training_data = data[[class1, class2]]\n",
        "    training_labels = labels[[class1, class2]]\n",
        "\n",
        "\n",
        "    weights = np.zeros(len(training_data[0]))\n",
        "    bias = 0\n",
        "    learning_rate = 1\n",
        "\n",
        "\n",
        "    for epoch in range(1000):\n",
        "        for i in range(len(training_data)):\n",
        "            prediction = np.dot(weights, training_data[i]) + bias\n",
        "            if prediction * training_labels[i] <= 0:\n",
        "                weights += learning_rate * training_labels[i] * training_data[i]\n",
        "                bias += learning_rate * training_labels[i]\n",
        "\n",
        "\n",
        "    predictions = np.dot(data, weights) + bias\n",
        "    if all(predictions[i] * labels[i] > 0 for i in range(len(data))):\n",
        "        return True\n",
        "    else:\n",
        "        return False\n",
        "\n",
        "def count_linearly_separable_problems():\n",
        "    total_problems = 0\n",
        "    linearly_separable_problems = 0\n",
        "\n",
        "    for class1 in range(7):\n",
        "        for class2 in range(class1 + 1, 8):\n",
        "            total_problems += 1\n",
        "            if is_linearly_separable(class1, class2):\n",
        "                linearly_separable_problems += 1\n",
        "\n",
        "    return linearly_separable_problems, total_problems\n",
        "\n",
        "if __name__ == \"__main__\":\n",
        "    linearly_separable, total = count_linearly_separable_problems()\n",
        "    print(f\"Number of linearly separable problems: {linearly_separable}\")\n",
        "    print(f\"Total number of binary classification problems: {total}\")\n"
      ],
      "metadata": {
        "colab": {
          "base_uri": "https://localhost:8080/"
        },
        "id": "KgtkcrhVmErg",
        "outputId": "9c0bd339-c56d-4b6f-be50-af31c3d17790"
      },
      "execution_count": 10,
      "outputs": [
        {
          "output_type": "stream",
          "name": "stdout",
          "text": [
            "Number of linearly separable problems: 4\n",
            "Total number of binary classification problems: 28\n"
          ]
        }
      ]
    },
    {
      "cell_type": "markdown",
      "source": [
        "**CONCLUSION:** <br>\n",
        "In this experiment, I have successfully implemented as well as executed the concept of single perceptron learning as well as creation of logic gates."
      ],
      "metadata": {
        "id": "r6ueGBeKnOYE"
      }
    }
  ]
}